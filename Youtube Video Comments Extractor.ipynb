{
 "cells": [
  {
   "cell_type": "markdown",
   "metadata": {},
   "source": [
    "### Import required modules"
   ]
  },
  {
   "cell_type": "code",
   "execution_count": 1,
   "metadata": {},
   "outputs": [],
   "source": [
    "import json\n",
    "import sys\n",
    "import urllib\n",
    "import argparse\n",
    "from urllib.parse import urlparse, urlencode, parse_qs\n",
    "from urllib.request import  urlopen\n",
    "import pandas as pd\n",
    "import ipywidgets as widgets\n",
    "from ipywidgets import Layout"
   ]
  },
  {
   "cell_type": "markdown",
   "metadata": {},
   "source": [
    "### Youtube Comment API url"
   ]
  },
  {
   "cell_type": "code",
   "execution_count": 2,
   "metadata": {},
   "outputs": [],
   "source": [
    "YOUTUBE_COMMENT_URL = 'https://www.googleapis.com/youtube/v3/commentThreads'"
   ]
  },
  {
   "cell_type": "markdown",
   "metadata": {},
   "source": [
    "### Class defined to fetch comments of provided youtube video"
   ]
  },
  {
   "cell_type": "code",
   "execution_count": 3,
   "metadata": {},
   "outputs": [],
   "source": [
    "#define class\n",
    "class YouTubeApi():\n",
    "    \n",
    "    #define dataframe to save comments fetched from url\n",
    "    df = pd.DataFrame(columns=['AuthorName','Comment'])\n",
    "    \n",
    "    # function to fetch comments from youtube url\n",
    "    def load_comments(self, mat):\n",
    "        \n",
    "        for item in mat[\"items\"]:\n",
    "            comment = item[\"snippet\"][\"topLevelComment\"]\n",
    "            author = comment[\"snippet\"][\"authorDisplayName\"]\n",
    "            text = comment[\"snippet\"][\"textDisplay\"]\n",
    "            self.df = self.df.append({'AuthorName' : author, 'Comment' : text} , ignore_index=True)\n",
    "            if 'replies' in item.keys():\n",
    "                for reply in item['replies']['comments']:\n",
    "                    rauthor = reply['snippet']['authorDisplayName']\n",
    "                    rtext = reply[\"snippet\"][\"textDisplay\"]\n",
    "                    self.df = self.df.append({'AuthorName' : rauthor, 'Comment' : rtext} , ignore_index=True)\n",
    "\n",
    "    # provide maximum number of comments to fetch per page(maximum is 100), youtube video url and youtube api key\n",
    "    # you can get youtube api key from Google Clouds API page\n",
    "    def get_video_comment(self, maximum, videoUrl, key): \n",
    "    \n",
    "        vid = str()\n",
    "        matches = {}\n",
    "\n",
    "        try:\n",
    "            video_id = urlparse(str(videoUrl))\n",
    "            q = parse_qs(video_id.query)\n",
    "            vid = q[\"v\"][0]\n",
    "\n",
    "        except:\n",
    "            print(\"Invalid YouTube URL\")\n",
    "\n",
    "        parms = {\n",
    "                    'part': 'snippet,replies',\n",
    "                    'maxResults': maximum,\n",
    "                    'videoId': vid,\n",
    "                    'textFormat': 'plainText',\n",
    "                    'key': key\n",
    "                }\n",
    "\n",
    "        try:\n",
    "\n",
    "            matches = self.openURL(YOUTUBE_COMMENT_URL, parms)\n",
    "            i = 2\n",
    "            mat = json.loads(matches)\n",
    "            nextPageToken = mat.get(\"nextPageToken\")\n",
    "            print(\"\\nPage : 1 - \" + str(nextPageToken))\n",
    "            print(\"------------------------------------------------------------------\")\n",
    "            self.load_comments(mat)\n",
    "\n",
    "            while nextPageToken:\n",
    "                parms.update({'pageToken': nextPageToken})\n",
    "                matches = self.openURL(YOUTUBE_COMMENT_URL, parms)\n",
    "                mat = json.loads(matches)\n",
    "                nextPageToken = mat.get(\"nextPageToken\")\n",
    "                print(\"\\nPage : \" + str(i) + \" - \" + str(nextPageToken))\n",
    "                print(\"------------------------------------------------------------------\")\n",
    "\n",
    "                self.load_comments(mat)\n",
    "\n",
    "                i += 1\n",
    "             \n",
    "            self.df.to_csv('output.csv')\n",
    "            \n",
    "        except KeyboardInterrupt:\n",
    "            print(\"User Aborted the Operation\")\n",
    "\n",
    "        except Exception as e:\n",
    "            print(e)\n",
    "            print(json.loads(matches))\n",
    "\n",
    "\n",
    "    # function to read data from comments api url\n",
    "    def openURL(self, url, parms):\n",
    "            f = urlopen(url + '?' + urlencode(parms))\n",
    "            data = f.read()\n",
    "            f.close()\n",
    "            matches = data.decode(\"utf-8\")\n",
    "            return matches\n"
   ]
  },
  {
   "cell_type": "markdown",
   "metadata": {},
   "source": [
    "### Define visual elements to collect input"
   ]
  },
  {
   "cell_type": "code",
   "execution_count": 4,
   "metadata": {},
   "outputs": [],
   "source": [
    "inputBoxVideoUrl = widgets.Text(\n",
    "    placeholder='Provide Youtube video url',\n",
    "    disabled=False,\n",
    "    layout=Layout(width='100%'))\n",
    "\n",
    "inputBoxAPIKey = widgets.Text(\n",
    "    placeholder='Provide Youtube API Key',\n",
    "    disabled=False,\n",
    "    layout=Layout(width='100%'))\n",
    "\n",
    "button = widgets.Button(\n",
    "    description='Fetch Comments',\n",
    "    disabled=False,\n",
    "    button_style='info', # 'success', 'info', 'warning', 'danger' or ''\n",
    "    tooltip='Click me',\n",
    ")\n",
    "\n",
    "out = widgets.Output()\n",
    "\n",
    "def fetch_commnets():\n",
    "    inpOne = inputBoxVideoUrl.value\n",
    "    inpTwo = inputBoxAPIKey.value\n",
    "    out.clear_output()\n",
    "    if (inpOne != '' and inpTwo != ''):\n",
    "        y = YouTubeApi()\n",
    "        y.get_video_comment(100, inpOne, inpTwo)\n",
    "    else:\n",
    "        with out:\n",
    "            print(\"Please provide value for both video urland API key\")\n",
    "\n",
    "def on_button_clicked(b):\n",
    "    fetch_commnets()\n",
    "            \n",
    "button.on_click(on_button_clicked)"
   ]
  },
  {
   "cell_type": "markdown",
   "metadata": {},
   "source": [
    "### Provide required values below and click on button\n",
    "#### You can get the Youtube API Key from your google cloud platform account"
   ]
  },
  {
   "cell_type": "code",
   "execution_count": 5,
   "metadata": {},
   "outputs": [
    {
     "data": {
      "application/vnd.jupyter.widget-view+json": {
       "model_id": "5974c1b4385b40caa27210d697f9b310",
       "version_major": 2,
       "version_minor": 0
      },
      "text/plain": [
       "Text(value='', layout=Layout(width='100%'), placeholder='Provide Youtube video url')"
      ]
     },
     "metadata": {},
     "output_type": "display_data"
    },
    {
     "data": {
      "application/vnd.jupyter.widget-view+json": {
       "model_id": "2e0f0351d91a463891c560d9b718d87e",
       "version_major": 2,
       "version_minor": 0
      },
      "text/plain": [
       "Text(value='', layout=Layout(width='100%'), placeholder='Provide Youtube API Key')"
      ]
     },
     "metadata": {},
     "output_type": "display_data"
    },
    {
     "data": {
      "application/vnd.jupyter.widget-view+json": {
       "model_id": "0eb258d0e49a4103ae12ddb7d18870e2",
       "version_major": 2,
       "version_minor": 0
      },
      "text/plain": [
       "Button(button_style='info', description='Fetch Comments', style=ButtonStyle(), tooltip='Click me')"
      ]
     },
     "metadata": {},
     "output_type": "display_data"
    },
    {
     "data": {
      "application/vnd.jupyter.widget-view+json": {
       "model_id": "dbe2b8c3ee7f414b9ebc9e7ea8299ea1",
       "version_major": 2,
       "version_minor": 0
      },
      "text/plain": [
       "Output()"
      ]
     },
     "metadata": {},
     "output_type": "display_data"
    }
   ],
   "source": [
    "display(inputBoxVideoUrl)\n",
    "display(inputBoxAPIKey)\n",
    "display(button)\n",
    "display(out)"
   ]
  }
 ],
 "metadata": {
  "kernelspec": {
   "display_name": "Python 3",
   "language": "python",
   "name": "python3"
  },
  "language_info": {
   "codemirror_mode": {
    "name": "ipython",
    "version": 3
   },
   "file_extension": ".py",
   "mimetype": "text/x-python",
   "name": "python",
   "nbconvert_exporter": "python",
   "pygments_lexer": "ipython3",
   "version": "3.7.1"
  }
 },
 "nbformat": 4,
 "nbformat_minor": 2
}
